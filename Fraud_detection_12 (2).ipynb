{
  "nbformat": 4,
  "nbformat_minor": 0,
  "metadata": {
    "colab": {
      "provenance": []
    },
    "kernelspec": {
      "name": "python3",
      "display_name": "Python 3"
    },
    "language_info": {
      "name": "python"
    }
  },
  "cells": [
    {
      "cell_type": "code",
      "execution_count": null,
      "metadata": {
        "colab": {
          "base_uri": "https://localhost:8080/"
        },
        "id": "E-gOMoUoGzrP",
        "outputId": "b652ec37-54d0-48e6-9a0d-9b6e67610469"
      },
      "outputs": [
        {
          "output_type": "stream",
          "name": "stdout",
          "text": [
            "\n",
            "Model Evaluation:\n",
            "Confusion Matrix:\n",
            " [[296   0]\n",
            " [  1   3]]\n",
            "\n",
            "Classification Report:\n",
            "               precision    recall  f1-score   support\n",
            "\n",
            "           0       1.00      1.00      1.00       296\n",
            "           1       1.00      0.75      0.86         4\n",
            "\n",
            "    accuracy                           1.00       300\n",
            "   macro avg       1.00      0.88      0.93       300\n",
            "weighted avg       1.00      1.00      1.00       300\n",
            "\n",
            "\n",
            "--- Fraud Detection for New Transaction ---\n",
            "Enter transaction amount: 300\n",
            "Enter transaction time (hour 0-23): 8\n",
            "Enter user's age: 29\n",
            "✅ This transaction is predicted as NOT FRAUD.\n"
          ]
        },
        {
          "output_type": "stream",
          "name": "stderr",
          "text": [
            "/usr/local/lib/python3.11/dist-packages/sklearn/utils/validation.py:2739: UserWarning: X does not have valid feature names, but RandomForestClassifier was fitted with feature names\n",
            "  warnings.warn(\n"
          ]
        }
      ],
      "source": [
        "import numpy as np\n",
        "import pandas as pd\n",
        "from sklearn.model_selection import train_test_split\n",
        "from sklearn.ensemble import RandomForestClassifier\n",
        "from sklearn.metrics import classification_report, confusion_matrix\n",
        "\n",
        "# Step 1: Create dummy fraud detection dataset\n",
        "np.random.seed(42)\n",
        "\n",
        "n_samples = 1000\n",
        "\n",
        "amount = np.random.exponential(scale=100, size=n_samples)\n",
        "transaction_time = np.random.randint(0, 24, size=n_samples)\n",
        "user_age = np.random.randint(18, 70, size=n_samples)\n",
        "\n",
        "fraud = (amount > 200) & ((transaction_time < 6) | (transaction_time > 22)) & (user_age < 30)\n",
        "fraud = fraud.astype(int)\n",
        "\n",
        "data = pd.DataFrame({\n",
        "    'amount': amount,\n",
        "    'transaction_time': transaction_time,\n",
        "    'user_age': user_age,\n",
        "    'is_fraud': fraud\n",
        "})\n",
        "\n",
        "# Step 2: Prepare data\n",
        "X = data[['amount', 'transaction_time', 'user_age']]\n",
        "y = data['is_fraud']\n",
        "\n",
        "X_train, X_test, y_train, y_test = train_test_split(X, y, test_size=0.3, random_state=42)\n",
        "\n",
        "# Step 3: Train Model\n",
        "model = RandomForestClassifier(n_estimators=100, random_state=42)\n",
        "model.fit(X_train, y_train)\n",
        "\n",
        "# Step 4: Predict on test data\n",
        "y_pred = model.predict(X_test)\n",
        "\n",
        "# Step 5: Evaluate\n",
        "print(\"\\nModel Evaluation:\")\n",
        "print(\"Confusion Matrix:\\n\", confusion_matrix(y_test, y_pred))\n",
        "print(\"\\nClassification Report:\\n\", classification_report(y_test, y_pred))\n",
        "\n",
        "# Step 6: User input prediction\n",
        "print(\"\\n--- Fraud Detection for New Transaction ---\")\n",
        "try:\n",
        "    input_amount = float(input(\"Enter transaction amount: \"))\n",
        "    input_time = int(input(\"Enter transaction time (hour 0-23): \"))\n",
        "    input_age = int(input(\"Enter user's age: \"))\n",
        "\n",
        "    # Create array for prediction\n",
        "    user_data = np.array([[input_amount, input_time, input_age]])\n",
        "\n",
        "    # Predict\n",
        "    prediction = model.predict(user_data)\n",
        "\n",
        "    # Output result\n",
        "    if prediction[0] == 1:\n",
        "        print(\"🚨 ALERT: This transaction is predicted as FRAUD!\")\n",
        "    else:\n",
        "        print(\"✅ This transaction is predicted as NOT FRAUD.\")\n",
        "except Exception as e:\n",
        "    print(f\"Input Error: {e}\")\n"
      ]
    },
    {
      "cell_type": "code",
      "source": [],
      "metadata": {
        "id": "NHz_vhcSG7mU"
      },
      "execution_count": null,
      "outputs": []
    }
  ]
}